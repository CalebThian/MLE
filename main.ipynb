{
 "cells": [
  {
   "cell_type": "code",
   "execution_count": 2,
   "id": "df2cbef2",
   "metadata": {},
   "outputs": [],
   "source": [
    "import csv\n",
    "import numpy as np\n",
    "import scipy.stats\n",
    "import matplotlib.pyplot as plt\n",
    "import math"
   ]
  },
  {
   "cell_type": "code",
   "execution_count": 3,
   "id": "e3d0915c",
   "metadata": {},
   "outputs": [],
   "source": [
    "# csv file name\n",
    "f = [\"Set1.csv\",\"Set2.csv\"]"
   ]
  },
  {
   "cell_type": "code",
   "execution_count": 4,
   "id": "4062bb78",
   "metadata": {},
   "outputs": [
    {
     "name": "stdout",
     "output_type": "stream",
     "text": [
      "100 30\n"
     ]
    }
   ],
   "source": [
    "data = []\n",
    "for i in range(len(f)):\n",
    "    with open(f[i], newline='') as file:\n",
    "        rows = csv.reader(file)\n",
    "        #Ignore header\n",
    "        headers = next(rows, None)\n",
    "        temp_data = []\n",
    "        for row in rows:\n",
    "            temp_data.append(float(row[0]))\n",
    "        data.append(np.array(temp_data))\n",
    "print(len(data[0]),len(data[1]))"
   ]
  },
  {
   "cell_type": "markdown",
   "id": "272cd31b",
   "metadata": {},
   "source": [
    "# MLE of Normal Distribution\n",
    "Fit data by $N(\\mu,\\sigma^2)$, pdf $f(x) = \\frac{1}{\\sigma\\sqrt{2\\pi}}e^{-\\frac{1}{2}(\\frac{x-\\mu}{\\sigma})^2}$  \n",
    "Theoretical derivation:\n",
    "$$L(\\mu,\\sigma^2|data) = \\Pi^n_{i=1}f(x_i|\\mu,\\sigma^2)$$  \n",
    "$$=\\Pi^n_{i=1}\\frac{1}{\\sqrt{2\\pi\\sigma^2}}e^{-\\frac{(x_i-\\mu)^2}{2\\sigma^2}}$$ $$=(\\frac{1}{\\sqrt{2\\pi\\sigma^2}})^ne^{-\\frac{\\sum^n_{i=1}(x_i-\\mu)^2}{2\\sigma^2}}$$  \n",
    "$$(\\hat{\\mu}_{MLE},\\hat{\\sigma^2}_{MLE}) = \\arg L(\\mu,\\sigma^2|data)=\\arg \\ln L(\\mu,\\sigma^2|data)$$  \n",
    "$$l = \\ln L(\\mu,\\sigma^2|data) = -\\frac{n}{2}\\ln(2\\pi\\sigma^2)-\\frac{\\sum^n_{i=1}(x_i-\\mu)^2}{2\\sigma^2}$$  \n",
    "$$\\begin{cases} \\frac{\\partial l}{\\partial\\mu}=\\frac{2\\sum^n_{i=1}(x_i-\\mu)}{2\\sigma^2} = \\frac{\\sum^n_{i=1}(x_i-\\mu)}{\\sigma^2}\\overset{Letting}{=} 0 \\rightarrow(1)\\\\ \\frac{\\partial l}{\\partial\\sigma^2}=-\\frac{n\\times 2\\pi}{2\\times 2\\pi\\sigma^2}+\\frac{\\sum^n_{i=1}(x_i-\\mu)^2}{2\\sigma^4}=\\frac{-n\\sigma^2+\\sum^n_{i=1}(x_i-\\mu)^2}{2\\sigma^4} \\overset{Letting}{=} 0\\rightarrow(2)\\end{cases}$$  \n",
    "$$From\\space (1), {\\sum^n_{i=1}(x_i-\\hat{\\mu}_{MLE})}=0$$\n",
    "$$\\sum^n_{i=1}(x_i)-n*\\hat{\\mu}_{MLE}=0$$  \n",
    "$$\\therefore\\hat{\\mu}_{MLE} = \\frac{\\sum^n_{i=1}(x_i)}{n} = \\bar{x}$$  \n",
    "$$From\\space (2), -n\\hat{\\sigma}_{MLE}^2+\\sum^n_{i=1}(x_i-\\bar{x})^2 = 0$$  \n",
    "$$\\therefore\\hat{\\sigma}_{MLE}^2 = \\frac{\\sum^n_{i=1}(x_i-\\bar{x})^2}{n}$$  \n"
   ]
  },
  {
   "cell_type": "code",
   "execution_count": 5,
   "id": "6cfef9bd",
   "metadata": {},
   "outputs": [],
   "source": [
    "def MLE_normal(data):\n",
    "    mu = np.mean(data)\n",
    "    sigma_square = np.var(data)\n",
    "    return mu,sigma_square"
   ]
  },
  {
   "cell_type": "code",
   "execution_count": 8,
   "id": "21161eff",
   "metadata": {},
   "outputs": [],
   "source": [
    "mu,sigma_square = MLE_normal(data[0])\n",
    "sigma = math.sqrt(sigma_square)"
   ]
  },
  {
   "cell_type": "code",
   "execution_count": 9,
   "id": "791f5925",
   "metadata": {},
   "outputs": [
    {
     "data": {
      "image/png": "[encoded data removed]",
      "text/plain": [
       "<Figure size 432x288 with 1 Axes>"
      ]
     },
     "metadata": {
      "needs_background": "light"
     },
     "output_type": "display_data"
    }
   ],
   "source": [
    "x = np.linspace(mu - 3*sigma, mu + 3*sigma, 100)\n",
    "plt.plot(x, scipy.stats.norm.pdf(x, mu, sigma))\n",
    "plt.hist(data[0],density = True)\n",
    "plt.show()"
   ]
  },
  {
   "cell_type": "markdown",
   "id": "afc3778c",
   "metadata": {},
   "source": [
    "# MLE of Exponential Distribution\n",
    "Fit data by $exp(\\lambda)$,pdf $f(x)=\\lambda e^{-\\lambda x}$\n",
    "\n",
    "By Theoretical derivation:\n",
    "$$L(\\lambda|data) = \\Pi^n_{j=1}f(x|\\lambda)=\\Pi^n_{j=1}\\lambda e^{-\\lambda x_j}$$\n",
    "$$=\\lambda^ne^{-\\lambda\\sum^n_{j=1}x_j}$$\n",
    "$$l = \\ln L = n\\ln{\\lambda}-\\lambda\\sum^n_{j=1}x_j$$\n",
    "$$\\frac{\\partial l}{\\partial \\lambda} = \\frac{n}{\\lambda} - \\sum^n_{j=1}x_j \\overset{Letting}{=} 0$$\n",
    "$$\\therefore\\hat{\\lambda}_{MLE} = \\frac{n}{\\sum^n_{j=1}x_j} = \\frac{1}{\\bar{x}}$$"
   ]
  },
  {
   "cell_type": "code",
   "execution_count": 10,
   "id": "9e0a720a",
   "metadata": {},
   "outputs": [],
   "source": [
    "def MLE_exp(data):\n",
    "    mu = np.mean(data)\n",
    "    Lambda = 1/mu\n",
    "    return Lambda"
   ]
  },
  {
   "cell_type": "code",
   "execution_count": 11,
   "id": "a5cbb194",
   "metadata": {},
   "outputs": [
    {
     "data": {
      "image/png": "[encoded data removed]",
      "text/plain": [
       "<Figure size 432x288 with 1 Axes>"
      ]
     },
     "metadata": {
      "needs_background": "light"
     },
     "output_type": "display_data"
    }
   ],
   "source": [
    "Lambda = MLE_exp(data[0])\n",
    "x = np.linspace(mu - 3*sigma, mu + 3*sigma, 100)\n",
    "plt.plot(x, scipy.stats.expon.pdf(x, scale = 1/Lambda))\n",
    "plt.hist(data[0],density = True)\n",
    "plt.ylim(top=1)\n",
    "plt.show()"
   ]
  },
  {
   "cell_type": "markdown",
   "id": "2ae470f7",
   "metadata": {},
   "source": [
    "# MLE of Laplace Distribution\n",
    "Fit data by $Laplace(\\mu,b)$, pdf $f(x) = \\frac{1}{2b}e^{-\\frac{|x-\\mu|}{b}}$\n",
    "\n",
    "Theoretical derivation:\n",
    "$$L(\\mu,b|data) = \\Pi^n_{i=1}f(x|\\mu,b) = \\Pi^n_{i=1}\\frac{1}{2b}e^{-\\frac{|x_i-\\mu|}{b}}$$\n",
    "$$=\\frac{1}{(2b)^n}e^{\\sum^n_{i=1}-\\frac{|x_i-\\mu|}{b}}$$\n",
    "$$l = \\ln L = -n\\ln{2b}-\\sum^n_{i=1}\\frac{|x_i-\\mu|}{b}=-n\\ln{2b}-\\frac{1}{b}\\sum^n_{i=1}|x_i-\\mu|$$\n",
    "$$\\begin{cases}\\frac{\\partial l}{\\partial \\mu} = \\frac{n}{b}\\sum^n_{i=1}\\frac{x_i-\\mu}{|x_i-\\mu|}\\overset{Letting}{=}0\\rightarrow (1)\\\\\\frac{\\partial l}{\\partial b} =-\\frac{2n}{2b}+\\frac{1}{b^2}\\sum^n_{i=1}|x_i-\\mu|=\\frac{n}{b}(-1+\\frac{\\sum^n_{i=1}|x_i-\\mu|}{nb}）\\overset{Letting}{=}0\\rightarrow (2)\\end{cases}$$\n",
    "$$From\\space (1), \\sum^n_{i=1}\\frac{x_i-\\hat{\\mu}_{MLE}}{|x_i-\\hat{\\mu}_{MLE}|}=0$$\n",
    "$$\\sum^n_{i=1}sgn(x_i-\\hat{\\mu}_{MLE}) = 0$$\n",
    "**Case 1: n is odd**\n",
    "$$when\\space \\mu = median(data), \\sum^n_{i=1}sgn(x_i-\\mu) = sgn(median(data)-\\mu) \\rightarrow 0$$\n",
    "**Case 2: n is even**\n",
    "$$when\\space \\mu=median(data)=\\frac{x_{\\frac{n}{2}}+x_{\\frac{n+1}{2}}}{2},\\sum^n_{i=1}sgn(x_i-\\mu)=sgn(x_{\\frac{n}{2}}-\\mu) + sgn(x_{\\frac{n+1}{2}}-\\mu) = 0$$\n",
    "$$\\therefore\\hat{\\mu}_{MLE} = median(data) $$\n",
    "$$From\\space (2),\\frac{\\sum^n_{i=1}|x_i-\\mu|}{n\\hat{b}_{MLE}}=1$$\n",
    "$$\\therefore \\hat{b}_{MLE} = \\frac{1}{n}\\sum^n_{i=1}|x_i-\\mu|$$\n",
    "$$\\therefore\\begin{cases}\\hat{\\mu}_{MLE} = median(data)\\\\\\hat{b}_{MLE} = \\frac{1}{n}\\sum^n_{i=1}|x_i-\\mu|\\end{cases}$$"
   ]
  },
  {
   "cell_type": "markdown",
   "id": "d347167f",
   "metadata": {},
   "source": [
    "Check convexity:\n",
    "$$\\frac{\\partial^2l}{d\\mu^2} = \\frac{n}{b}\\sum^n_{i=1}\\frac{-|x_i-\\mu|+(x_i-\\mu)\\frac{(x_i-\\mu)}{|x_i-\\mu|}}{(x_i-\\mu)^2}=\\frac{n}{b}\\sum^n_{i=1}\\frac{\\frac{-(x_i-\\mu)^2+(x_i-\\mu)^2}{|x_i-\\mu|}}{(x_i-\\mu)^2}=0$$\n",
    "$$\\therefore\\space l\\space is\\space convex$$"
   ]
  },
  {
   "cell_type": "code",
   "execution_count": 16,
   "id": "f1a9f67e",
   "metadata": {},
   "outputs": [],
   "source": [
    "def MLE_lap(data):\n",
    "    mu = np.median(data)\n",
    "    b = 0\n",
    "    for x in data:\n",
    "        b+=abs(x-mu)\n",
    "    b /= len(data)\n",
    "    return mu,b"
   ]
  },
  {
   "cell_type": "code",
   "execution_count": 14,
   "id": "76044df0",
   "metadata": {},
   "outputs": [
    {
     "data": {
      "image/png": "[encoded data removed]",
      "text/plain": [
       "<Figure size 432x288 with 1 Axes>"
      ]
     },
     "metadata": {
      "needs_background": "light"
     },
     "output_type": "display_data"
    }
   ],
   "source": [
    "mu,b = MLE_lap(data[0])\n",
    "x = np.linspace(mu - 3*sigma, mu + 3*sigma, 100)\n",
    "plt.plot(x, scipy.stats.laplace.pdf(x, loc = mu, scale = 1/b))\n",
    "plt.hist(data[0],density = True)\n",
    "plt.ylim(top=1)\n",
    "plt.show()"
   ]
  },
  {
   "cell_type": "code",
   "execution_count": 15,
   "id": "19e05e5d",
   "metadata": {},
   "outputs": [
    {
     "data": {
      "text/plain": [
       "(0.05400466649999999, 59.51408534399999)"
      ]
     },
     "execution_count": 15,
     "metadata": {},
     "output_type": "execute_result"
    }
   ],
   "source": [
    "mu,b"
   ]
  },
  {
   "cell_type": "code",
   "execution_count": null,
   "id": "ac8d66d9",
   "metadata": {},
   "outputs": [],
   "source": []
  }
 ],
 "metadata": {
  "kernelspec": {
   "display_name": "Python 3 (ipykernel)",
   "language": "python",
   "name": "python3"
  },
  "language_info": {
   "codemirror_mode": {
    "name": "ipython",
    "version": 3
   },
   "file_extension": ".py",
   "mimetype": "text/x-python",
   "name": "python",
   "nbconvert_exporter": "python",
   "pygments_lexer": "ipython3",
   "version": "3.8.5"
  }
 },
 "nbformat": 4,
 "nbformat_minor": 5
}
