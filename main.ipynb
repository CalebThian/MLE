{
 "cells": [
  {
   "cell_type": "code",
   "execution_count": 16,
   "id": "df2cbef2",
   "metadata": {},
   "outputs": [],
   "source": [
    "import csv\n",
    "import numpy as np\n",
    "import scipy.stats\n",
    "import matplotlib.pyplot as plt\n",
    "import math"
   ]
  },
  {
   "cell_type": "code",
   "execution_count": 17,
   "id": "e3d0915c",
   "metadata": {},
   "outputs": [],
   "source": [
    "# csv file name\n",
    "f = [\"Set1.csv\",\"Set2.csv\"]"
   ]
  },
  {
   "cell_type": "code",
   "execution_count": 18,
   "id": "4062bb78",
   "metadata": {},
   "outputs": [
    {
     "name": "stdout",
     "output_type": "stream",
     "text": [
      "100 30\n"
     ]
    }
   ],
   "source": [
    "data = []\n",
    "for i in range(len(f)):\n",
    "    with open(f[i], newline='') as file:\n",
    "        rows = csv.reader(file)\n",
    "        #Ignore header\n",
    "        headers = next(rows, None)\n",
    "        temp_data = []\n",
    "        for row in rows:\n",
    "            temp_data.append(float(row[0]))\n",
    "        data.append(np.array(temp_data))\n",
    "print(len(data[0]),len(data[1]))"
   ]
  },
  {
   "cell_type": "markdown",
   "id": "272cd31b",
   "metadata": {},
   "source": [
    "# MLE of Normal Distribution\n",
    "Fit data by $N(\\mu,\\sigma^2)$  \n",
    "Theoretical derivation:\n",
    "$$L(\\mu,\\sigma^2|data) = \\Pi^n_{i=1}f(x_i|\\mu,\\sigma^2)$$  \n",
    "$$=\\Pi^n_{i=1}\\frac{1}{\\sqrt{2\\pi\\sigma^2}}e^{-\\frac{(x_i-\\mu)^2}{2\\sigma^2}}$$ $$=(\\frac{1}{\\sqrt{2\\pi\\sigma^2}})^ne^{-\\frac{\\sum^n_{i=1}(x_i-\\mu)^2}{2\\sigma^2}}$$  \n",
    "$$(\\hat{\\mu}_{MLE},\\hat{\\sigma^2}_{MLE}) = \\arg L(\\mu,\\sigma^2|data)=\\arg \\ln L(\\mu,\\sigma^2|data)$$  \n",
    "$$l = \\ln L(\\mu,\\sigma^2|data) = -\\frac{n}{2}\\ln(2\\pi\\sigma^2)-\\frac{\\sum^n_{i=1}(x_i-\\mu)^2}{2\\sigma^2}$$  \n",
    "$$\\begin{cases} \\frac{\\delta l}{\\delta\\mu}=\\frac{2\\sum^n_{i=1}(x_i-\\mu)}{2\\sigma^2} = \\frac{\\sum^n_{i=1}(x_i-\\mu)}{\\sigma^2}\\overset{Letting}{=} 0 \\rightarrow(1)\\\\ \\frac{\\delta l}{\\delta\\sigma^2}=-\\frac{n\\times 2\\pi}{2\\times 2\\pi\\sigma^2}+\\frac{\\sum^n_{i=1}(x_i-\\mu)^2}{2\\sigma^4}=\\frac{-n\\sigma^2+\\sum^n_{i=1}(x_i-\\mu)^2}{2\\sigma^4} \\overset{Letting}{=} 0\\rightarrow(2)\\end{cases}$$  \n",
    "$$From\\space (1), {\\sum^n_{i=1}(x_i-\\hat{\\mu}_{MLE})}=0$$\n",
    "$$\\sum^n_{i=1}(x_i)-n*\\hat{\\mu}_{MLE}=0$$  \n",
    "$$\\therefore\\hat{\\mu}_{MLE} = \\frac{\\sum^n_{i=1}(x_i)}{n} = \\bar{x}$$  \n",
    "$$From\\space (2), -n\\hat{\\sigma}_{MLE}^2+\\sum^n_{i=1}(x_i-\\bar{x})^2 = 0$$  \n",
    "$$\\therefore\\hat{\\sigma}_{MLE}^2 = \\frac{\\sum^n_{i=1}(x_i-\\bar{x})^2}{n}$$  \n"
   ]
  },
  {
   "cell_type": "code",
   "execution_count": 19,
   "id": "6cfef9bd",
   "metadata": {},
   "outputs": [],
   "source": [
    "def MLE_normal(data):\n",
    "    mu = np.mean(data)\n",
    "    sigma_square = np.var(data)\n",
    "    return mu,sigma_square"
   ]
  },
  {
   "cell_type": "code",
   "execution_count": 20,
   "id": "21161eff",
   "metadata": {},
   "outputs": [],
   "source": [
    "mu,sigma_square = MLE_normal(data[0])\n",
    "sigma = math.sqrt(sigma_square)"
   ]
  },
  {
   "cell_type": "code",
   "execution_count": 21,
   "id": "791f5925",
   "metadata": {},
   "outputs": [
    {
     "data": {
      "image/png": "[encoded data removed]",
      "text/plain": [
       "<Figure size 432x288 with 1 Axes>"
      ]
     },
     "metadata": {
      "needs_background": "light"
     },
     "output_type": "display_data"
    }
   ],
   "source": [
    "x = np.linspace(mu - 3*sigma, mu + 3*sigma, 100)\n",
    "plt.plot(x, scipy.stats.norm.pdf(x, mu, sigma))\n",
    "plt.hist(data[0],density = True)\n",
    "plt.show()"
   ]
  },
  {
   "cell_type": "markdown",
   "id": "afc3778c",
   "metadata": {},
   "source": []
  }
 ],
 "metadata": {
  "kernelspec": {
   "display_name": "Python 3 (ipykernel)",
   "language": "python",
   "name": "python3"
  },
  "language_info": {
   "codemirror_mode": {
    "name": "ipython",
    "version": 3
   },
   "file_extension": ".py",
   "mimetype": "text/x-python",
   "name": "python",
   "nbconvert_exporter": "python",
   "pygments_lexer": "ipython3",
   "version": "3.8.5"
  }
 },
 "nbformat": 4,
 "nbformat_minor": 5
}
